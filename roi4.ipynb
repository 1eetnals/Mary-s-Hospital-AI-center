{
  "cells": [
    {
      "cell_type": "markdown",
      "metadata": {
        "id": "view-in-github",
        "colab_type": "text"
      },
      "source": [
        "<a href=\"https://colab.research.google.com/github/1eetnals/Mary-s-Hospital-AI-center/blob/main/roi4.ipynb\" target=\"_parent\"><img src=\"https://colab.research.google.com/assets/colab-badge.svg\" alt=\"Open In Colab\"/></a>"
      ]
    },
    {
      "cell_type": "code",
      "execution_count": null,
      "source": [
        "import nibabel as nib\n",
        "import numpy as np\n",
        "import matplotlib.pyplot as plt\n",
        "from nilearn import image\n",
        "from nilearn import signal\n",
        "import os\n",
        "\n",
        "path='/nfs/jjh_HUFS/rs_glymphatic/CN_amy_neg'\n",
        "\n",
        "sdir=os.listdir(path)\n",
        "\n",
        "os.chdir('/nfs/jjh_HUFS/rs_glymphatic/')\n",
        "\n",
        "plt.rcParams['figure.facecolor']='white'\n",
        "plt.rcParams[\"figure.figsize\"]=(15,20)\n",
        "plt.rcParams[\"lines.linewidth\"]=1.5\n",
        "\n",
        "for n in range(13,32):\n",
        "    fmri = nib.load(path+'/'+sdir[n]+'/'+'rsfmri.nii.gz')\n",
        "    mask = nib.load(path+'/'+sdir[n]+'/'+'re4.nii.gz')\n",
        "\n",
        "    fmri_smt05 = image.smooth_img(fmri,5)\n",
        "\n",
        "    fmrimg = fmri_smt05.get_fdata()\n",
        "    maskimg = mask.get_fdata()\n",
        "    \n",
        "    sz = fmrimg.shape\n",
        "    ts = fmri.header['pixdim'][3]\n",
        "    xx = np.arange(0,ts*sz[-1],ts)\n",
        "\n",
        "    roisig = np.load(os.path.join(os.getcwd(),'CN_amy_neg',sdir[n],'roisig.npz'))\n",
        "\n",
        "    roi_sig2 = roisig['roi2']\n",
        "    roi_sig1 = roisig['roi1']\n",
        "    roi_sig4 = roisig['roi4']\n",
        "    roi_sig5 = roisig['roi5']\n",
        "    roi_sig_all = roisig['roi_all']\n",
        "\n",
        "    #roi4는 slice를 #0~#3(4개)로 제한: ndarray형태로 저장\n",
        "    temp_list=[]\n",
        "    for i in range(0,4):\n",
        "        temp_list.append(roi_sig4[i])\n",
        "    roi4_new=np.asarray(temp_list)\n",
        "\n",
        "    #y축 범위\n",
        "    ymin=np.mean(roi_sig4)-3*np.std(roi_sig4)\n",
        "    ymax=np.mean(roi_sig4)+3*np.std(roi_sig4)\n",
        "\n",
        "    smax = np.max(fmrimg[:,:,:,0])\n",
        "\n",
        "    zz=np.zeros((6,sz[2]))\n",
        "    zz[1,:] = np.squeeze(np.sum(np.sum(maskimg==1,axis = 1),axis = 0))\n",
        "    zz[2,:] = np.squeeze(np.sum(np.sum(maskimg==2,axis = 1),axis = 0))\n",
        "    zz[4,:] = np.squeeze(np.sum(np.sum(maskimg==4,axis = 1),axis = 0))\n",
        "    zz[5,:] = np.squeeze(np.sum(np.sum(maskimg==5,axis = 1),axis = 0))\n",
        "\n",
        "    #roi_1,2\n",
        "    plt.subplot(4,2,1).set_title(f\"4th Ventricle / Pons\",fontweight='bold')\n",
        "    plt.plot(xx,np.mean(roi_sig1,axis=0),'b',label='4th Ventricle')\n",
        "    plt.plot(xx,np.mean(roi_sig2,axis=0),color='#ff7f0e',linestyle='--',label='Pons')\n",
        "    plt.ylim([ymin,ymax])\n",
        "    plt.xlabel('sec')\n",
        "    plt.ylabel('ignal intensity')\n",
        "    plt.legend()\n",
        "\n",
        "    #roi_2\n",
        "    plt.subplot(4,2,2).set_title(f\"Pons\",fontweight='bold')\n",
        "    plt.plot(xx,np.mean(roi_sig2,axis=0),'b',label='Pons')\n",
        "    plt.ylim([ymin,ymax])\n",
        "    plt.xlabel('sec')\n",
        "    plt.ylabel('signal intensity')\n",
        "    plt.legend()\n",
        "\n",
        "    #roi_2,4\n",
        "    plt.subplot(4,2,3).set_title(f\"Foramen Magnum / Pons\",fontweight='bold')\n",
        "    plt.plot(xx,np.mean(roi_sig4,axis=0),'b',label='Foramen Magnum')\n",
        "    plt.plot(xx,np.mean(roi_sig2,axis=0),color='#ff7f0e',linestyle='--',label='Pons')\n",
        "    plt.ylim([ymin,ymax])\n",
        "    plt.xlabel('sec')\n",
        "    plt.ylabel('signal intensity')\n",
        "    plt.legend()\n",
        "\n",
        "    #roi_2,5\n",
        "    plt.subplot(4,2,4).set_title(f\"3rd Ventricle / Pons\",fontweight='bold')\n",
        "    plt.plot(xx,np.mean(roi_sig5,axis=0),'b',label='3rd Ventricle')\n",
        "    plt.plot(xx,np.mean(roi_sig2,axis=0),color='#ff7f0e',linestyle='--',label='Pons')\n",
        "    plt.ylim([ymin,ymax])\n",
        "    plt.xlabel('sec')\n",
        "    plt.ylabel('signal intensity')\n",
        "    plt.legend()\n",
        "\n",
        "    #roi_1,4\n",
        "    plt.subplot(4,2,5).set_title(f\"Foramen Magnum / 4th Ventricle\",fontweight='bold')\n",
        "    plt.plot(xx,np.mean(roi_sig4,axis=0),'b',label='Foramen Magnum')\n",
        "    plt.plot(xx,np.mean(roi_sig1,axis=0),color='#ff7f0e',linestyle='--',label='4th Ventricle')\n",
        "    plt.ylim([ymin,ymax])\n",
        "    plt.xlabel('sec')\n",
        "    plt.ylabel('signal intensity')\n",
        "    plt.legend()\n",
        "\n",
        "    #roi_1,2,4\n",
        "    plt.subplot(4,2,6).set_title(f\"Foramen Magnum / 4th Ventricle / Pons\",fontweight='bold')\n",
        "    plt.plot(xx,np.mean(roi_sig4,axis=0),'b',label='Foramen Magnum')\n",
        "    plt.plot(xx,np.mean(roi_sig1,axis=0),color='#ff7f0e',linestyle='--',label='4th Ventricle')\n",
        "    plt.plot(xx,np.mean(roi_sig2,axis=0),color='g',linestyle='--',label='Pons')\n",
        "    plt.ylim([ymin,ymax])\n",
        "    plt.xlabel('sec')\n",
        "    plt.ylabel('signal intensity')\n",
        "    plt.legend()\n",
        "\n",
        "    #roi_4(new),2\n",
        "    plt.subplot(4,2,7).set_title(f\"Foramen Magnum(slice #0-#3) / Pons\", fontweight='bold')\n",
        "    plt.plot(xx, np.mean(roi4_new,axis=0),'b',label='Froamen Magnum(slice #0-#3)')\n",
        "    plt.plot(xx,np.mean(roi_sig2,axis=0),color='g',linestyle='--',label='Pons')\n",
        "    plt.ylim([ymin,ymax])\n",
        "    plt.xlabel('sec')\n",
        "    plt.ylabel('signal intensity')\n",
        "    plt.legend()\n",
        "\n",
        "    #roi_4(new),1,2\n",
        "    plt.subplot(4,2,8).set_title(f\"Foramen Magnum(slice #0-#3) / Pons / 4th Ventricle\", fontweight='bold')\n",
        "    plt.plot(xx, np.mean(roi4_new,axis=0),'b',label='Froamen Magnum(slice #0-#3)')\n",
        "    plt.plot(xx,np.mean(roi_sig2,axis=0),color='g',linestyle='--',label='Pons')\n",
        "    plt.plot(xx,np.mean(roi_sig1,axis=0),color='#ff7f0e',linestyle='--',label='4th Ventricle')\n",
        "    plt.ylim([ymin,ymax])\n",
        "    plt.xlabel('sec')\n",
        "    plt.ylabel('signal intensity')\n",
        "    plt.legend()\n",
        "\n",
        "    plt.tight_layout()\n",
        "    #plt.show()\n",
        "    \n",
        "    #.png파일 저장\n",
        "    plt.savefig(os.path.join('/home/hufsbme/LSM/glymphatic/CN_roi_mean_signal_v1_comparison_4',f\"roi_mean_signal_v1_comparison4_{sdir[n]}.png\"))\n",
        "    #.npz파일 저장\n",
        "    np.savez(os.getcwd()+'/CN_amy_neg/'+sdir[n]+'/'+'roisig4(slice#0-#03).npz',roi4_new=roi4_new)\n",
        "\n",
        "    plt.clf()\n",
        "    print(f\"complete: {sdir[n]}\")"
      ],
      "outputs": [
        {
          "output_type": "stream",
          "name": "stdout",
          "text": [
            "complete: sub_2008\n",
            "complete: sub_2027\n",
            "complete: sub_2060\n",
            "complete: sub_2072\n",
            "complete: sub_2121\n",
            "complete: sub_2154\n",
            "complete: sub_2164\n",
            "complete: sub_2198\n",
            "complete: sub_2231\n",
            "complete: sub_2235\n",
            "complete: sub_2238\n",
            "complete: sub_2260\n",
            "complete: sub_2267\n",
            "complete: sub_2276\n",
            "complete: sub_2277\n",
            "complete: sub_2278\n",
            "complete: sub_2291\n",
            "complete: sub_2303\n",
            "complete: sub_2308\n"
          ]
        },
        {
          "output_type": "display_data",
          "data": {
            "text/plain": [
              "<Figure size 1080x1440 with 0 Axes>"
            ]
          },
          "metadata": {}
        }
      ],
      "metadata": {
        "id": "6TVc3ObuhUrU",
        "outputId": "779c8c01-818e-4d20-b2e1-78d216e62dac"
      }
    },
    {
      "cell_type": "code",
      "execution_count": null,
      "source": [
        ""
      ],
      "outputs": [],
      "metadata": {
        "id": "bzilQT45hUrc"
      }
    }
  ],
  "metadata": {
    "orig_nbformat": 4,
    "language_info": {
      "name": "python",
      "version": "3.8.8",
      "mimetype": "text/x-python",
      "codemirror_mode": {
        "name": "ipython",
        "version": 3
      },
      "pygments_lexer": "ipython3",
      "nbconvert_exporter": "python",
      "file_extension": ".py"
    },
    "kernelspec": {
      "name": "python3",
      "display_name": "Python 3.8.8 64-bit ('lsm': conda)"
    },
    "interpreter": {
      "hash": "c30a7354e4be823caa32d8c12f6e28870f78c740bceb742ab7c69e0c9c8e7507"
    },
    "colab": {
      "name": "roi4.ipynb",
      "provenance": [],
      "include_colab_link": true
    }
  },
  "nbformat": 4,
  "nbformat_minor": 0
}